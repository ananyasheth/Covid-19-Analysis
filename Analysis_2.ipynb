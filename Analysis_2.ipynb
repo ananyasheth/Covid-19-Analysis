{
 "cells": [
  {
   "cell_type": "code",
   "execution_count": 18,
   "metadata": {},
   "outputs": [
    {
     "name": "stdout",
     "output_type": "stream",
     "text": [
      "        No. of cases                                                   \\\n",
      "Country  Afghanistan Algeria Australia Austria Bahrain Belgium Brazil   \n",
      "Gender                                                                  \n",
      "Female             0       0         6       0      10       0      0   \n",
      "Male               1       1         9       0       3       1      1   \n",
      "\n",
      "                                ...                                       \\\n",
      "Country Cambodia Canada China   ...   South Korea Spain Sri Lanka Sweden   \n",
      "Gender                          ...                                        \n",
      "Female         0      6   337   ...            12     3         1      2   \n",
      "Male           1      4   391   ...            16     7         0      2   \n",
      "\n",
      "                                                                  \\\n",
      "Country Switzerland Thailand United Arab Emirates United Kingdom   \n",
      "Gender                                                             \n",
      "Female            3       10                    1              1   \n",
      "Male              5        8                    2              0   \n",
      "\n",
      "                               \n",
      "Country United States Vietnam  \n",
      "Gender                         \n",
      "Female              4      10  \n",
      "Male                6       6  \n",
      "\n",
      "[2 rows x 51 columns]\n"
     ]
    }
   ],
   "source": [
    "import pandas as pd\n",
    "df = pd.read_csv('COVID19_open_line_list.csv')\n",
    "x = df['ID'].count()\n",
    "s = df['country'].value_counts(dropna=True)\n",
    "df1 = pd.DataFrame(s)\n",
    "df1 = df1.reset_index()\n",
    "l1 = []\n",
    "l2 = []\n",
    "l3 = []\n",
    "for i in range(0,df1.shape[0]):\n",
    "    l1.append(df1.iloc[i,0])\n",
    "    l1.append(df1.iloc[i,0])\n",
    "    l2.append('Male')\n",
    "    l2.append('Female')\n",
    "    df2= df[(df['country'] == df1.iloc[i,0]) & (df['sex'] == 'male')]\n",
    "    l3.append(df2.shape[0])\n",
    "    df3 = df[(df['country'] == df1.iloc[i,0]) & (df['sex'] == 'female')]\n",
    "    l3.append(df3.shape[0])\n",
    "    \n",
    "arrays = [l1,l2]\n",
    "index = pd.MultiIndex.from_arrays(arrays, names=('Country','Gender'))\n",
    "df4= pd.DataFrame({'No. of cases':l3},index=index)\n",
    "df5 = df4.unstack(level=0)\n",
    "print(df5)\n",
    "df5.to_excel('MaleFemaleCO-19.xls')\n"
   ]
  }
 ],
 "metadata": {
  "kernelspec": {
   "display_name": "Python 3",
   "language": "python",
   "name": "python3"
  },
  "language_info": {
   "codemirror_mode": {
    "name": "ipython",
    "version": 3
   },
   "file_extension": ".py",
   "mimetype": "text/x-python",
   "name": "python",
   "nbconvert_exporter": "python",
   "pygments_lexer": "ipython3",
   "version": "3.6.3"
  }
 },
 "nbformat": 4,
 "nbformat_minor": 2
}
