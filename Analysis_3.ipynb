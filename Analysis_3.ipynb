{
 "cells": [
  {
   "cell_type": "code",
   "execution_count": 5,
   "metadata": {},
   "outputs": [
    {
     "data": {
      "text/html": [
       "<div>\n",
       "<style>\n",
       "    .dataframe thead tr:only-child th {\n",
       "        text-align: right;\n",
       "    }\n",
       "\n",
       "    .dataframe thead th {\n",
       "        text-align: left;\n",
       "    }\n",
       "\n",
       "    .dataframe tbody tr th {\n",
       "        vertical-align: top;\n",
       "    }\n",
       "</style>\n",
       "<table border=\"1\" class=\"dataframe\">\n",
       "  <thead>\n",
       "    <tr style=\"text-align: right;\">\n",
       "      <th></th>\n",
       "      <th>States prone to hot climate</th>\n",
       "      <th>Average increase in cases per day (May)</th>\n",
       "      <th>Average temperature in May*10</th>\n",
       "    </tr>\n",
       "  </thead>\n",
       "  <tbody>\n",
       "    <tr>\n",
       "      <th>0</th>\n",
       "      <td>Rajasthan</td>\n",
       "      <td>346.727273</td>\n",
       "      <td>450.000</td>\n",
       "    </tr>\n",
       "    <tr>\n",
       "      <th>1</th>\n",
       "      <td>Telangana</td>\n",
       "      <td>108.727273</td>\n",
       "      <td>416.667</td>\n",
       "    </tr>\n",
       "    <tr>\n",
       "      <th>2</th>\n",
       "      <td>Maharashtra</td>\n",
       "      <td>2015.545455</td>\n",
       "      <td>411.220</td>\n",
       "    </tr>\n",
       "    <tr>\n",
       "      <th>3</th>\n",
       "      <td>Gujarat</td>\n",
       "      <td>744.909091</td>\n",
       "      <td>405.550</td>\n",
       "    </tr>\n",
       "    <tr>\n",
       "      <th>4</th>\n",
       "      <td>Odisha</td>\n",
       "      <td>34.272727</td>\n",
       "      <td>372.220</td>\n",
       "    </tr>\n",
       "    <tr>\n",
       "      <th>5</th>\n",
       "      <td>Uttar Pradesh</td>\n",
       "      <td>315.181818</td>\n",
       "      <td>400.000</td>\n",
       "    </tr>\n",
       "  </tbody>\n",
       "</table>\n",
       "</div>"
      ],
      "text/plain": [
       "  States prone to hot climate  Average increase in cases per day (May)  \\\n",
       "0                   Rajasthan                               346.727273   \n",
       "1                   Telangana                               108.727273   \n",
       "2                 Maharashtra                              2015.545455   \n",
       "3                     Gujarat                               744.909091   \n",
       "4                      Odisha                                34.272727   \n",
       "5               Uttar Pradesh                               315.181818   \n",
       "\n",
       "   Average temperature in May*10  \n",
       "0                        450.000  \n",
       "1                        416.667  \n",
       "2                        411.220  \n",
       "3                        405.550  \n",
       "4                        372.220  \n",
       "5                        400.000  "
      ]
     },
     "execution_count": 5,
     "metadata": {},
     "output_type": "execute_result"
    }
   ],
   "source": [
    "import pandas as pd\n",
    "import matplotlib.pyplot as plt\n",
    "import numpy as np\n",
    "\n",
    "df = pd.read_excel('May_covid19_data.xls')\n",
    "l1 = ['Rajasthan','Telangana','Maharashtra','Gujarat','Odisha','Uttar Pradesh']\n",
    "l2 = []\n",
    "l3 = []\n",
    "l4 = []\n",
    "l5 = [450, 416.667, 411.22, 405.55, 372.22, 400]\n",
    "l6 = []\n",
    "\n",
    "for j in range(0, len(l1)):\n",
    "    df2 = df[(df['State/UnionTerritory'] == l1[j])]\n",
    "    df3 = pd.DataFrame(df2['Confirmed'])\n",
    "    df3 = df3.reset_index()\n",
    "    \n",
    "    for k in range(0,df3.shape[0]):\n",
    "        l2.append(df3.iloc[k,1])\n",
    "    l6.append(df3.iloc[df3.shape[0]-1,1])\n",
    "    \n",
    "    l3.append(l2)\n",
    "    l2 = []\n",
    "    \n",
    "for h in range(0,len(l3)):\n",
    "    Average = 0\n",
    "    \n",
    "    if len(l3[h])!= 0:\n",
    "        Average = l6[h]/len(l3[h])\n",
    "    l4.append(Average)\n",
    "\n",
    "df4 = pd.DataFrame({'States prone to hot climate':l1,'Average increase in cases per day (May)': l4, 'Average temperature in May*10':l5}, columns =['States prone to hot climate','Average increase in cases per day (May)','Average temperature in May*10'])\n",
    "df4"
   ]
  },
  {
   "cell_type": "code",
   "execution_count": 48,
   "metadata": {},
   "outputs": [
    {
     "data": {
      "image/png": "[encoded data removed]",
      "text/plain": [
       "<matplotlib.figure.Figure at 0x27dd2cdd4e0>"
      ]
     },
     "metadata": {},
     "output_type": "display_data"
    }
   ],
   "source": [
    "plt.plot(l1,l4,'r.',l1,l5,'g.')\n",
    "plt.show()\n",
    "plt.close()"
   ]
  },
  {
   "cell_type": "code",
   "execution_count": 49,
   "metadata": {},
   "outputs": [
    {
     "data": {
      "image/png": "[encoded data removed]",
      "text/plain": [
       "<matplotlib.figure.Figure at 0x27dd49e4198>"
      ]
     },
     "metadata": {},
     "output_type": "display_data"
    }
   ],
   "source": [
    "N = len(l4)\n",
    "\n",
    "fig, ax = plt.subplots(figsize = (10,6))\n",
    "ind = np.arange(N)   \n",
    "width = 0.35   \n",
    "p1 = ax.bar(ind, l4, width, bottom=0*cm)\n",
    "p2 = ax.bar(ind + width, l5, width, bottom=0*cm)\n",
    "ax.set_title('Can coronavirus survive heat?')\n",
    "ax.set_xticks(ind + width / 2)\n",
    "ax.set_xticklabels(l1)\n",
    "\n",
    "ax.legend((p1[0], p2[0]), ('Average increase in cases per day (May)', 'Average temperature in the state (May)'))\n",
    "ax.yaxis.set_units(inch)\n",
    "ax.autoscale_view()\n",
    "\n",
    "plt.show()\n"
   ]
  }
 ],
 "metadata": {
  "kernelspec": {
   "display_name": "Python 3",
   "language": "python",
   "name": "python3"
  },
  "language_info": {
   "codemirror_mode": {
    "name": "ipython",
    "version": 3
   },
   "file_extension": ".py",
   "mimetype": "text/x-python",
   "name": "python",
   "nbconvert_exporter": "python",
   "pygments_lexer": "ipython3",
   "version": "3.6.3"
  }
 },
 "nbformat": 4,
 "nbformat_minor": 2
}
