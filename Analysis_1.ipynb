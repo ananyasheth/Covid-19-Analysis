{
 "cells": [
  {
   "cell_type": "code",
   "execution_count": 4,
   "metadata": {},
   "outputs": [
    {
     "data": {
      "image/png": "[encoded data removed]",
      "text/plain": [
       "<matplotlib.figure.Figure at 0x25a2ecfde48>"
      ]
     },
     "metadata": {},
     "output_type": "display_data"
    }
   ],
   "source": [
    "import pandas as pd\n",
    "import matplotlib.pyplot as plt\n",
    "df = pd.read_csv(\"patients_data.csv\")\n",
    "# increment of number of cases per day\n",
    "s = df['date_announced'].value_counts(dropna = False,ascending=True)\n",
    "df1 = pd.DataFrame(s)\n",
    "df1 = df1.reset_index()\n",
    "df1[\"index\"] = pd.to_datetime(df1[\"index\"], dayfirst = True)\n",
    "df2 = df1.sort_values(by = ['index'] ,ascending=True)\n",
    "\n",
    "l2=[]\n",
    "l3=[]\n",
    "\n",
    "for j in range(0,df2.shape[0]):\n",
    "    l2.append(df2.iloc[j,0])\n",
    "    l3.append(df2.iloc[j,1])\n",
    "\n",
    "l1 = [0]\n",
    "for i in range(0,(df2.shape[0]-1)):\n",
    "    PerInc = (df2.iloc[i+1,1]-df2.iloc[i,1])/df2.iloc[i,1]\n",
    "    l1.append(PerInc)\n",
    "    \n",
    "df3 = pd.DataFrame({'Date': l2, 'No. of cases':l3, 'Percentage Inc/Dec': l1})\n",
    "fig, ax = plt.subplots(figsize = (25, 5))\n",
    "plt.plot(l2,l1,'r')\n",
    "plt.show()\n",
    "plt.close()\n"
   ]
  },
  {
   "cell_type": "code",
   "execution_count": 3,
   "metadata": {},
   "outputs": [
    {
     "name": "stdout",
     "output_type": "stream",
     "text": [
      "                          State  Current cases  Recovered cases\n",
      "0                   Maharashtra           1364                2\n",
      "1                    Tamil Nadu            834                6\n",
      "2                         Delhi            720                2\n",
      "3                     Rajasthan            489                3\n",
      "4                     Telangana            471                1\n",
      "5                Madhya Pradesh            411                0\n",
      "6                 Uttar Pradesh            410                6\n",
      "7                Andhra Pradesh            365                2\n",
      "8                        Kerala            357               57\n",
      "9                       Gujarat            308                1\n",
      "10                    Karnataka            197               20\n",
      "11            Jammu and Kashmir            184                0\n",
      "12                      Haryana            175               12\n",
      "13                       Punjab            130                0\n",
      "14                  West Bengal            116                3\n",
      "15                        Bihar             60                0\n",
      "16                       Odisha             48                0\n",
      "17                  Uttarakhand             35                1\n",
      "18                        Assam             29                0\n",
      "19             Himachal Pradesh             28                1\n",
      "20                   Chandigarh             18                0\n",
      "21                 Chhattisgarh             18                1\n",
      "22                       Ladakh             15                0\n",
      "23                    Jharkhand             14                0\n",
      "24  Andaman and Nicobar Islands             11                0\n",
      "25                          Goa              7                0\n",
      "26                   Puducherry              5                0\n",
      "27                      Manipur              2                1\n",
      "28                      Mizoram              1                0\n",
      "29       Dadra and Nagar Haveli              1                0\n",
      "30            Arunachal Pradesh              1                0\n",
      "31                      Tripura              1                0\n"
     ]
    }
   ],
   "source": [
    "import pandas as pd\n",
    "df = pd.read_csv(\"patients_data.csv\")\n",
    "\n",
    "#States with maximum number of cases recovered\n",
    "states = df['detected_state'].value_counts(dropna = False)\n",
    "df1 = pd.DataFrame(states)\n",
    "df1 = df1.reset_index()\n",
    "\n",
    "l1 = []\n",
    "l2 = []\n",
    "l3 = []\n",
    "\n",
    "for x in range(0, states.shape[0]):\n",
    "    l1.append(df1.iloc[x,0])\n",
    "    l2.append(df1.iloc[x,1])\n",
    "    \n",
    "#print(l1)\n",
    "#print(l2)\n",
    "\n",
    "for u in range(0,len(l1)):\n",
    "    df2 = df[(df['detected_state'] == l1[u]) & (df['current_status'] == 'Recovered')]\n",
    "    l3.append(df2.shape[0])\n",
    "    \n",
    "#print(l3)\n",
    "\n",
    "df3 = pd.DataFrame({'State':l1 ,'Current cases':l2, 'Recovered cases':l3}, columns = ['State','Current cases','Recovered cases'])\n",
    "print(df3)\n",
    "\n"
   ]
  },
  {
   "cell_type": "code",
   "execution_count": 46,
   "metadata": {},
   "outputs": [
    {
     "name": "stdout",
     "output_type": "stream",
     "text": [
      "Local       1581\n",
      "TBD          629\n",
      "Imported     594\n",
      "Name: type_of_transmission, dtype: int64\n"
     ]
    }
   ],
   "source": [
    "import pandas as pd\n",
    "df = pd.read_csv(\"patients_data.csv\")\n",
    "\n",
    "#To study types of transmissions\n",
    "s = df['type_of_transmission'].value_counts()\n",
    "print(s)"
   ]
  }
 ],
 "metadata": {
  "kernelspec": {
   "display_name": "Python 3",
   "language": "python",
   "name": "python3"
  },
  "language_info": {
   "codemirror_mode": {
    "name": "ipython",
    "version": 3
   },
   "file_extension": ".py",
   "mimetype": "text/x-python",
   "name": "python",
   "nbconvert_exporter": "python",
   "pygments_lexer": "ipython3",
   "version": "3.6.3"
  }
 },
 "nbformat": 4,
 "nbformat_minor": 2
}
